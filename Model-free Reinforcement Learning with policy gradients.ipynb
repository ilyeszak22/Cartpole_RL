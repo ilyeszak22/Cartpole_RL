{
 "cells": [
  {
   "cell_type": "markdown",
   "metadata": {},
   "source": [
    "# Model-free Reinforcement Learning with policy gradients\n"
   ]
  },
  {
   "cell_type": "raw",
   "metadata": {},
   "source": [
    "In this mini-project we will program a toy example of a model-free reinforcement learning algorithm policy gradient with the following subtasks:\n",
    "    -Explore the environment\n",
    "    -Design the policy\n",
    "    -Compute action selection\n",
    "    -Estimate the expected return\n",
    "    -Backpropagate through the policy\n",
    "This code was orginaly a graded assignement for computer science in mechanical engineering at the RWTH Aachen university.\n",
    "This code was later modified for education purpose. "
   ]
  },
  {
   "cell_type": "markdown",
   "metadata": {},
   "source": [
    "# Contributing group members"
   ]
  },
  {
   "cell_type": "raw",
   "metadata": {},
   "source": [
    "    Felipe Casas   \n",
    "    Huu Duc Nguyen\n",
    "    Ilyes Toumi\n",
    "    Kim Huijo"
   ]
  },
  {
   "cell_type": "code",
   "execution_count": 1,
   "metadata": {},
   "outputs": [],
   "source": [
    "# import all neccesary modules\n",
    "from __future__ import absolute_import\n",
    "from __future__ import division\n",
    "from __future__ import print_function\n",
    "from __future__ import unicode_literals\n",
    "import gym\n",
    "import numpy as np\n",
    "from itertools import count\n",
    "%matplotlib inline  \n",
    "import matplotlib.pyplot as plt\n",
    "\n",
    "import torch\n",
    "import torch.nn as nn\n",
    "import torch.nn.functional as F\n",
    "import torch.optim as optim\n",
    "from torch.distributions import Categorical\n",
    "from torch.autograd import Variable\n",
    "\n",
    "eps = np.finfo(np.float32).eps.item()"
   ]
  },
  {
   "cell_type": "code",
   "execution_count": 12,
   "metadata": {},
   "outputs": [],
   "source": [
    "# taking a look at the environment\n",
    "gamma = 0.99 #discount factor\n",
    "render = False #render the environment\n",
    "log_interval = 10\n",
    "\n",
    "env = gym.make('CartPole-v1')\n",
    "\n",
    "for i_episode in range(10):\n",
    "    state, ep_reward = env.reset(), 0\n",
    "    for t in range(1, 10000):  # Don't infinite loop while learning\n",
    "        action = env.action_space.sample()\n",
    "        state, reward, done, _ = env.step(action)\n",
    "        if render:\n",
    "            env.render()\n",
    "        if done:\n",
    "            break\n",
    "env.close()            "
   ]
  },
  {
   "cell_type": "markdown",
   "metadata": {},
   "source": [
    "# Geting familiar with the environment"
   ]
  },
  {
   "cell_type": "markdown",
   "metadata": {},
   "source": [
    "Describing the action and state space. (discrete or continuous, how many actions (states) are available, what do the actions (states) describe?)\n",
    "\n",
    "State space:"
   ]
  },
  {
   "cell_type": "raw",
   "metadata": {},
   "source": [
    "The state-space of the Cart-Pole has four dimensions of continuous values.\n",
    "- car position : -2.4~2.4\n",
    "- car velocity : -inf~inf\n",
    "- pole angle : -41.8~41.8 degree\n",
    "- pole veocity at tip : -inf~inf."
   ]
  },
  {
   "cell_type": "markdown",
   "metadata": {},
   "source": [
    "Action space:"
   ]
  },
  {
   "cell_type": "raw",
   "metadata": {},
   "source": [
    "The action-space has one dimension of two discrete values.\n",
    "- Move left (action = 0)\n",
    "- Move right (action = 1)"
   ]
  },
  {
   "cell_type": "markdown",
   "metadata": {},
   "source": [
    "# Defining the policy"
   ]
  },
  {
   "cell_type": "raw",
   "metadata": {},
   "source": [
    "Policy architecture:\n",
    "        fully connected layer (#states -> 128)\n",
    "        dropout layer (p=0.6)\n",
    "        ReLU activation\n",
    "        fully connected layer (128 -> #actions)\n",
    "        softmax activation"
   ]
  },
  {
   "cell_type": "code",
   "execution_count": 3,
   "metadata": {},
   "outputs": [],
   "source": [
    "class Policy(nn.Module):\n",
    "    def __init__(self):\n",
    "        super(Policy, self).__init__()        \n",
    "\n",
    "        ################################################################################\n",
    "\n",
    "        self.state_space = env.observation_space.shape[0]\n",
    "        self.action_space = env.action_space.n\n",
    "        \n",
    "        # Define 2 FC layers\n",
    "        self.l1 = nn.Linear(self.state_space, 128, bias=False)\n",
    "        self.l2 = nn.Linear(128, self.action_space, bias=False)\n",
    "        \n",
    "        # Discount factor\n",
    "        self.gamma = gamma\n",
    "        \n",
    "        # Episode policy and reward history \n",
    "        self.policy_history = torch.Tensor()\n",
    "        self.reward_episode = []\n",
    "        \n",
    "        # Init 2 lists: log probs and rewards\n",
    "        self.reward_history = []\n",
    "        self.loss_history = []\n",
    "\n",
    "        ################################################################################\n",
    "\n",
    "\n",
    "    def forward(self, x):        \n",
    "\n",
    "        ################################################################################\n",
    "        \n",
    "        model = nn.Sequential(self.l1, nn.Dropout(p=0.6), nn.ReLU(),\n",
    "                              self.l2, nn.Softmax(dim=-1))\n",
    "        return model(x)\n",
    "    \n",
    "        ################################################################################\n"
   ]
  },
  {
   "cell_type": "markdown",
   "metadata": {},
   "source": [
    "Furthermore, initialize an instance of the neural network policy. To update the weights, use an Adam optimizer (torch.optim) with a learning rate of lr=1e-2. "
   ]
  },
  {
   "cell_type": "markdown",
   "metadata": {},
   "source": [
    "# Initialization of the policy and the optimizer"
   ]
  },
  {
   "cell_type": "code",
   "execution_count": 13,
   "metadata": {},
   "outputs": [],
   "source": [
    "\n",
    "    ################################################################################\n",
    "    \n",
    "policy = Policy()\n",
    "optimizer = optim.Adam(policy.parameters(), lr=0.01)\n",
    "\n",
    "    ################################################################################\n",
    "\n"
   ]
  },
  {
   "cell_type": "markdown",
   "metadata": {},
   "source": [
    "# Sampling an action from the probability distribution over actions of the policy"
   ]
  },
  {
   "cell_type": "markdown",
   "metadata": {},
   "source": [
    "Now, we need to sample an action from the probability distribution computed by the policy. First, convert the state to a torch tensor. Then, compute the action probabilities and define a categorical distribution over the action probabilities. Last, sample an action from this probability and save the log probability of this action in the corresponding list of the policy.  "
   ]
  },
  {
   "cell_type": "code",
   "execution_count": 5,
   "metadata": {},
   "outputs": [],
   "source": [
    "\n",
    "def sample_action(state):\n",
    "    ################################################################################\n",
    "\n",
    "    \n",
    "    # Converting State to torch tensor\n",
    "    state = torch.from_numpy(state).type(torch.FloatTensor)\n",
    "    \n",
    "    # Action probabilities & Categorical Distribution\n",
    "    action_prob = policy(Variable(state))\n",
    "    prob = Categorical(action_prob)\n",
    "    \n",
    "    # Sampling action from a categorical pdf\n",
    "    action = prob.sample()\n",
    "        \n",
    "    # Saving on history\n",
    "    policy.policy_history = torch.cat([policy.policy_history,\n",
    "                                       prob.log_prob(action).reshape(1)])\n",
    "\n",
    "    ################################################################################\n",
    "\n",
    "    return action.item()"
   ]
  },
  {
   "cell_type": "markdown",
   "metadata": {},
   "source": [
    "# Estimating the exptected returns "
   ]
  },
  {
   "cell_type": "markdown",
   "metadata": {},
   "source": [
    "In the following, you need to compute the estimated return for each state-action pair with respect to the corresponding trajectory. In order to compute the estimate of the expectation over the remaining discounted rewards it is quite reasonable to iterate backwards through the reward list stored in the policy. "
   ]
  },
  {
   "cell_type": "code",
   "execution_count": 6,
   "metadata": {},
   "outputs": [],
   "source": [
    "# Define a running variable for the current rewards and a list to store the expected return for each state.\n",
    "# Iterate backwards through all rewards stored in the corresponding list of the policy and compute the discounted \n",
    "# expected return for all remaining states of the current trajectory. (gamma is already defined)\n",
    "# Note, when iterating backwards, appending the expected return is not a smart move!!!\n",
    "def estimate_return():\n",
    "    ################################################################################\n",
    "\n",
    "    R = 0\n",
    "    returns = []\n",
    "    \n",
    "    # Calculating returns for each episode\n",
    "    for ret in policy.reward_episode[::-1]:\n",
    "        R = ret + policy.gamma * R\n",
    "        returns.insert(0,R)\n",
    "        \n",
    "    # Normalizing returns\n",
    "    returns = torch.FloatTensor(returns)\n",
    "    returns = (returns - returns.mean()) / (returns.std() + eps)\n",
    "    \n",
    "    ################################################################################\n",
    "\n",
    "    return returns\n",
    "    "
   ]
  },
  {
   "cell_type": "markdown",
   "metadata": {},
   "source": [
    "# Computing the loss and update the weights"
   ]
  },
  {
   "cell_type": "markdown",
   "metadata": {},
   "source": [
    "Using the estimates for the exptected discounted, you need to update the weights of the policy. Remember that the only difference between the gradient in supervised learning and the gradient of the RL objective in policy gradient is the weighting factor based on the expected return (see the slides of the lecture). To compute the loss of a trajectory, sum over the negative log-likelihood of the chosen action multiplied by the expected return of the current state for all states of the trajectory. Then, use the backwards-function to compute the gradient and update the weights using the optimizer.   "
   ]
  },
  {
   "cell_type": "code",
   "execution_count": 7,
   "metadata": {},
   "outputs": [],
   "source": [
    "# Define a list for the losses of each state in a trajectory\n",
    "# Compute the individual loss for each state based on the negative log likelihood of the action and the expected\n",
    "# return of the current state (you have to iterate over the complete trajectory)\n",
    "# Prepare the optimizer for an update step\n",
    "# Compute the overall loss of the policy (sum)\n",
    "# Compute the gradient\n",
    "# Update the weights of the network\n",
    "# Don't forget to delete the stored rewards and the action probs in the corresponding lists of the policy\n",
    "def update_weights(returns):\n",
    "    ################################################################################\n",
    "\n",
    "    \n",
    "    # Compute loss\n",
    "    loss = (torch.sum(torch.mul(policy.policy_history, returns).mul(-1), -1))\n",
    "    \n",
    "    # Update network weights\n",
    "    optimizer.zero_grad()\n",
    "    loss.backward()\n",
    "    optimizer.step()\n",
    "    \n",
    "    # Save policy history and episode rewards\n",
    "    policy.loss_history.append(loss.item())\n",
    "    policy.reward_history.append(np.sum(policy.reward_episode))\n",
    "    \n",
    "    # Clear list for the next episode\n",
    "    policy.policy_history = torch.Tensor([])\n",
    "    policy.reward_episode= []\n",
    "    \n",
    "    ################################################################################\n",
    "\n"
   ]
  },
  {
   "cell_type": "markdown",
   "metadata": {},
   "source": [
    "# Putting it all together"
   ]
  },
  {
   "cell_type": "markdown",
   "metadata": {},
   "source": [
    "The last step is to combine everything. Update the policy with 1000 trajectory samples. The openai gym environments return a terminal flag which you can use to notice a terminal state. Remember policy gradient is on-policy meaning that it is necessary to generate new samples after every single update step. Visualize the evolution of the rewards over time in a plot. Use an exponential weighted moving average over the rewards to get a smooth graph (delta = 0.05). Additionaly, illustrate the cumulative reward of every trajectory in the same plot. Print out after every ten trajectories the trajectory counter, the averaged reward and the last reward."
   ]
  },
  {
   "cell_type": "code",
   "execution_count": 8,
   "metadata": {},
   "outputs": [
    {
     "name": "stdout",
     "output_type": "stream",
     "text": [
      "Trajectory # 0  \tAverage Reward: 10.30\tLast Reward:    16\n",
      "Trajectory # 10  \tAverage Reward: 15.48\tLast Reward:    25\n",
      "Trajectory # 20  \tAverage Reward: 22.71\tLast Reward:    17\n",
      "Trajectory # 30  \tAverage Reward: 34.82\tLast Reward:    44\n",
      "Trajectory # 40  \tAverage Reward: 53.96\tLast Reward:    74\n",
      "Trajectory # 50  \tAverage Reward: 72.27\tLast Reward:    93\n",
      "Trajectory # 60  \tAverage Reward: 126.53\tLast Reward:   370\n",
      "Trajectory # 70  \tAverage Reward: 140.02\tLast Reward:   157\n",
      "Trajectory # 80  \tAverage Reward: 172.07\tLast Reward:   123\n",
      "Trajectory # 90  \tAverage Reward: 170.77\tLast Reward:   170\n",
      "Trajectory # 100  \tAverage Reward: 203.06\tLast Reward:   181\n",
      "Trajectory # 110  \tAverage Reward: 298.93\tLast Reward:   437\n",
      "Trajectory # 120  \tAverage Reward: 372.12\tLast Reward:   499\n",
      "Trajectory # 130  \tAverage Reward: 421.75\tLast Reward:   499\n",
      "Trajectory # 140  \tAverage Reward: 388.18\tLast Reward:   499\n",
      "Trajectory # 150  \tAverage Reward: 369.79\tLast Reward:   256\n",
      "Trajectory # 160  \tAverage Reward: 312.35\tLast Reward:   269\n",
      "Trajectory # 170  \tAverage Reward: 242.19\tLast Reward:    77\n",
      "Trajectory # 180  \tAverage Reward: 211.94\tLast Reward:   105\n",
      "Trajectory # 190  \tAverage Reward: 207.83\tLast Reward:   267\n",
      "Trajectory # 200  \tAverage Reward: 168.69\tLast Reward:   100\n",
      "Trajectory # 210  \tAverage Reward: 159.93\tLast Reward:   250\n",
      "Trajectory # 220  \tAverage Reward: 186.37\tLast Reward:   166\n",
      "Trajectory # 230  \tAverage Reward: 192.28\tLast Reward:    89\n",
      "Trajectory # 240  \tAverage Reward: 181.81\tLast Reward:    94\n",
      "Trajectory # 250  \tAverage Reward: 175.61\tLast Reward:   243\n",
      "Trajectory # 260  \tAverage Reward: 158.69\tLast Reward:   132\n",
      "Trajectory # 270  \tAverage Reward: 142.71\tLast Reward:   123\n",
      "Trajectory # 280  \tAverage Reward: 140.36\tLast Reward:   122\n",
      "Trajectory # 290  \tAverage Reward: 121.81\tLast Reward:    80\n",
      "Trajectory # 300  \tAverage Reward: 122.15\tLast Reward:    80\n",
      "Trajectory # 310  \tAverage Reward: 154.05\tLast Reward:   113\n",
      "Trajectory # 320  \tAverage Reward: 183.91\tLast Reward:    98\n",
      "Trajectory # 330  \tAverage Reward: 163.29\tLast Reward:   186\n",
      "Trajectory # 340  \tAverage Reward: 186.72\tLast Reward:   118\n",
      "Trajectory # 350  \tAverage Reward: 199.05\tLast Reward:   193\n",
      "Trajectory # 360  \tAverage Reward: 223.91\tLast Reward:   191\n",
      "Trajectory # 370  \tAverage Reward: 211.11\tLast Reward:   247\n",
      "Trajectory # 380  \tAverage Reward: 206.42\tLast Reward:   491\n",
      "Trajectory # 390  \tAverage Reward: 193.88\tLast Reward:   215\n",
      "Trajectory # 400  \tAverage Reward: 194.35\tLast Reward:   101\n",
      "Trajectory # 410  \tAverage Reward: 195.54\tLast Reward:   107\n",
      "Trajectory # 420  \tAverage Reward: 174.80\tLast Reward:    84\n",
      "Trajectory # 430  \tAverage Reward: 159.47\tLast Reward:   199\n",
      "Trajectory # 440  \tAverage Reward: 152.53\tLast Reward:    65\n",
      "Trajectory # 450  \tAverage Reward: 167.85\tLast Reward:    75\n",
      "Trajectory # 460  \tAverage Reward: 180.95\tLast Reward:   321\n",
      "Trajectory # 470  \tAverage Reward: 180.60\tLast Reward:   155\n",
      "Trajectory # 480  \tAverage Reward: 183.19\tLast Reward:   302\n",
      "Trajectory # 490  \tAverage Reward: 195.98\tLast Reward:   262\n",
      "Trajectory # 500  \tAverage Reward: 198.14\tLast Reward:   175\n",
      "Trajectory # 510  \tAverage Reward: 200.87\tLast Reward:    71\n",
      "Trajectory # 520  \tAverage Reward: 193.72\tLast Reward:   326\n",
      "Trajectory # 530  \tAverage Reward: 168.92\tLast Reward:   108\n",
      "Trajectory # 540  \tAverage Reward: 159.02\tLast Reward:    60\n",
      "Trajectory # 550  \tAverage Reward: 180.43\tLast Reward:    80\n",
      "Trajectory # 560  \tAverage Reward: 186.30\tLast Reward:   110\n",
      "Trajectory # 570  \tAverage Reward: 193.07\tLast Reward:   274\n",
      "Trajectory # 580  \tAverage Reward: 230.67\tLast Reward:   499\n",
      "Trajectory # 590  \tAverage Reward: 261.34\tLast Reward:   232\n",
      "Trajectory # 600  \tAverage Reward: 295.99\tLast Reward:   499\n",
      "Trajectory # 610  \tAverage Reward: 322.92\tLast Reward:   499\n",
      "Trajectory # 620  \tAverage Reward: 387.44\tLast Reward:   499\n",
      "Trajectory # 630  \tAverage Reward: 432.20\tLast Reward:   499\n",
      "Trajectory # 640  \tAverage Reward: 459.01\tLast Reward:   499\n",
      "Trajectory # 650  \tAverage Reward: 475.05\tLast Reward:   499\n",
      "End of Training. Final Average Reward 475.0546609343297. Last trajectory has 499 time steps.\n"
     ]
    }
   ],
   "source": [
    "# Generate 1000 trajectories with a maximum length of 10000. \n",
    "running_reward = 10\n",
    "render = False\n",
    "\n",
    "    ################################################################################\n",
    "\n",
    "episodes = 1000\n",
    "policy.weighted_reward = []\n",
    "\n",
    "for episode in range(episodes):\n",
    "    state = env.reset() # Reset environment to generate new samples\n",
    "    done = False       \n",
    "    \n",
    "    for time in range(10000):\n",
    "        action = sample_action(state)\n",
    "        \n",
    "        # Step through environment using chosen action\n",
    "        state, reward, done, _ = env.step(action)\n",
    "    \n",
    "        # Record reward\n",
    "        policy.reward_episode.append(reward)\n",
    "        \n",
    "        # Break the trajectory if terminal flag is returned\n",
    "        if done:\n",
    "            break\n",
    "        \n",
    "    running_reward = (running_reward * 0.95) + (time * 0.05) \n",
    "    policy.weighted_reward.append(running_reward)\n",
    "    \n",
    "    # Calculate Returns & Update Weights\n",
    "    returns = estimate_return()\n",
    "    update_weights(returns)\n",
    "    \n",
    "    if episode % 10 == 0:\n",
    "        print('Trajectory # {}  \\tAverage Reward: {:.2f}\\tLast Reward: {:5d}'.format(episode, running_reward, time))\n",
    "        \n",
    "    if running_reward > env.spec.reward_threshold:\n",
    "        print(\"End of Training. Final Average Reward {}. Last trajectory has {} time steps.\".format(running_reward, time))\n",
    "        break\n",
    "\n",
    "true_reward = policy.reward_history\n",
    "averaged_reward = policy.weighted_reward\n",
    "\n",
    "    ################################################################################\n",
    "\n"
   ]
  },
  {
   "cell_type": "code",
   "execution_count": 9,
   "metadata": {},
   "outputs": [
    {
     "data": {
      "image/png": "[encoded data removed]",
      "text/plain": [
       "<Figure size 432x288 with 1 Axes>"
      ]
     },
     "metadata": {
      "needs_background": "light"
     },
     "output_type": "display_data"
    },
    {
     "data": {
      "image/png": "[encoded data removed]",
      "text/plain": [
       "<Figure size 432x288 with 1 Axes>"
      ]
     },
     "metadata": {
      "needs_background": "light"
     },
     "output_type": "display_data"
    }
   ],
   "source": [
    "plt.plot(true_reward)\n",
    "plt.title('True Reward')\n",
    "plt.ylabel('Reward')\n",
    "plt.xlabel('Episode')\n",
    "plt.show()\n",
    "\n",
    "plt.plot(averaged_reward)\n",
    "plt.title('Average Reward')\n",
    "plt.ylabel('Reward')\n",
    "plt.xlabel('Episode')\n",
    "plt.show()"
   ]
  },
  {
   "cell_type": "markdown",
   "metadata": {},
   "source": [
    "# Rendering the learned policy"
   ]
  },
  {
   "cell_type": "code",
   "execution_count": null,
   "metadata": {},
   "outputs": [],
   "source": [
    "env = gym.make('CartPole-v1')\n",
    "render = True\n",
    "for i_episode in range(10):\n",
    "    state, ep_reward = env.reset(), 0\n",
    "    for t in range(1, 10000):  # Don't infinite loop while learning\n",
    "        action = sample_action(state)\n",
    "        state, reward, done, _ = env.step(action)\n",
    "        if render:\n",
    "            env.render()\n",
    "        if done:\n",
    "            break\n",
    "env.close()   "
   ]
  }
 ],
 "metadata": {
  "kernelspec": {
   "display_name": "Python 3",
   "language": "python",
   "name": "python3"
  },
  "language_info": {
   "codemirror_mode": {
    "name": "ipython",
    "version": 3
   },
   "file_extension": ".py",
   "mimetype": "text/x-python",
   "name": "python",
   "nbconvert_exporter": "python",
   "pygments_lexer": "ipython3",
   "version": "3.7.8"
  }
 },
 "nbformat": 4,
 "nbformat_minor": 4
}
