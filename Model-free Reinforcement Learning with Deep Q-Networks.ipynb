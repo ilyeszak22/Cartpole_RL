{
 "cells": [
  {
   "cell_type": "markdown",
   "metadata": {},
   "source": [
    "# Model-free Reinforcement Learning: Deep Q-Networks\n"
   ]
  },
  {
   "cell_type": "raw",
   "metadata": {},
   "source": [
    "In this mini-project we will program a toy example of a model-free reinforcement learning algorithm with a deep Q-network with the following subtasks:\n",
    "    Design the replay buffer and pre-fill the buffer\n",
    "    Design the Q-network\n",
    "    Implement epsilon-greedy\n",
    "    Implement a method for calculating the loss\n",
    "    Put everything together in the trainin loop\n",
    "This code was orginaly a graded assignement for computer science in mechanical engineering at the RWTH Aachen university.\n",
    "This code was later adapted as a jupyter notebook for education purpose. \n",
    "    "
   ]
  },
  {
   "cell_type": "markdown",
   "metadata": {},
   "source": [
    "# Contributing group members"
   ]
  },
  {
   "cell_type": "markdown",
   "metadata": {},
   "source": [
    "    Felipe Casas   \n",
    "    Huu Duc Nguyen\n",
    "    Ilyes Toumi\n",
    "    Kim Huijo"
   ]
  },
  {
   "cell_type": "code",
   "execution_count": 1,
   "metadata": {},
   "outputs": [],
   "source": [
    "# import all neccessary modules\n",
    "import numpy as np\n",
    "import gym\n",
    "import torch\n",
    "from torch import nn\n",
    "import torch.optim as optim\n",
    "from torch.autograd import Variable\n",
    "from copy import copy, deepcopy\n",
    "import torch.nn.functional as F\n",
    "import random\n",
    "%matplotlib inline  \n",
    "import matplotlib.pyplot as plt"
   ]
  },
  {
   "cell_type": "markdown",
   "metadata": {},
   "source": [
    "# Create a replay buffer"
   ]
  },
  {
   "cell_type": "markdown",
   "metadata": {},
   "source": [
    "First, you need to implement a replay buffer to break high correlation between similiar trajectories and neighboring data points. In Task 1.1, you need to initialize the buffer meaning you need to store the maximum memory size, a memory counter and arrays for storing the state, action, reward, next_state, and flags for terminal states. In Task 1.2, you implement to store transitions in the arrrays of the buffer. Last, you need to design a method for sampling randomly from the buffer. "
   ]
  },
  {
   "cell_type": "code",
   "execution_count": 2,
   "metadata": {},
   "outputs": [],
   "source": [
    "from collections import namedtuple\n",
    "Transition = namedtuple('Transition', ('state', 'action', 'next_state', 'reward', 'flag'))\n",
    "\n",
    "class ReplayBuffer(object):\n",
    "    # Initialization of the replay buffer:\n",
    "    # Store the max_size of the buffer and create a counter (int) needed for iterating over the whole buffer when\n",
    "    # storing transitions\n",
    "    # Use numpy arrays! Think about the shape of these arrays!\n",
    "    # The memories should have the following data types:\n",
    "    # states: float32\n",
    "    # next_states: float32\n",
    "    # actions: int64\n",
    "    # rewards: float32\n",
    "    # terminal: bool\n",
    "    def __init__(self, max_size, input_shape):\n",
    "        ################################################################################\n",
    "\n",
    "        self.capacity = max_size\n",
    "        self.input_shape = input_shape\n",
    "        self.memory = []\n",
    "        self.position = 0\n",
    "\n",
    "        ################################################################################\n",
    "\n",
    "    \n",
    "    # Store transitions: \n",
    "    # Compute the index where you want to store the new transition (Hint: modulo-devision)\n",
    "    # Store the data of the transition at the appropriate position\n",
    "    def append(self, state, action, state_, reward, done):\n",
    "        ################################################################################\n",
    "\n",
    "\n",
    "        if len(self.memory) < self.capacity:\n",
    "            self.memory.append(None)\n",
    "        self.memory[self.position] = Transition(state, action, state_, reward, done)\n",
    "        self.position = (self.position + 1) % self.capacity\n",
    "\n",
    "        ################################################################################\n",
    "\n",
    "\n",
    "    # Sample a random batch from the buffer:\n",
    "    # Return numpy arrays for states, actions, rewards, next_states and terminal flags\n",
    "    def sample_batch(self, batch_size):\n",
    "        ################################################################################\n",
    "\n",
    "        \n",
    "        return random.sample(self.memory, batch_size)\n",
    "        \n",
    "        ################################################################################\n",
    "\n"
   ]
  },
  {
   "cell_type": "markdown",
   "metadata": {},
   "source": [
    "Next, instantiate a replay buffer with a maximum size of 10000 and fill the buffer with transitions."
   ]
  },
  {
   "cell_type": "code",
   "execution_count": 3,
   "metadata": {},
   "outputs": [
    {
     "name": "stdout",
     "output_type": "stream",
     "text": [
      "10000\n",
      "10024\n"
     ]
    },
    {
     "data": {
      "text/plain": [
       "Transition(state=array([ 0.04117622,  0.34260751,  0.01872239, -0.49394412]), action=0, next_state=array([ 0.04802837,  0.14722659,  0.00884351, -0.19542003]), reward=1.0, flag=False)"
      ]
     },
     "execution_count": 3,
     "metadata": {},
     "output_type": "execute_result"
    }
   ],
   "source": [
    "#Initialize replay buffer:\n",
    "################################################################################\n",
    "\n",
    "\n",
    "max_size = 10000\n",
    "input_shape = 4\n",
    "replay_buffer = ReplayBuffer(max_size, input_shape)\n",
    "\n",
    "################################################################################\n",
    "\n",
    "\n",
    "# Fill replay memory:\n",
    "# Define variables for the number of actions and states\n",
    "# Generate transitions and fill up the buffer\n",
    "# First, reset the environment\n",
    "# Use a loop to generate a trajectory.\n",
    "# If you encountered a terminal state, leave the loop and start the next trajectory until the buffer is full. \n",
    "\n",
    "env = gym.make('CartPole-v0')\n",
    "\n",
    "################################################################################\n",
    "\n",
    "\n",
    "memory_filling_steps = 0 #counter for how many transitions have already been stored\n",
    "while memory_filling_steps < replay_buffer.capacity:\n",
    "    state, reward, done = env.reset(), 0, False\n",
    "    while not done:\n",
    "        action = np.random.choice(2)\n",
    "        state_, reward, done, _ = env.step(action)\n",
    "        #if done: reward = np.float32(-1)\n",
    "        #print(state, action, state_, reward, done)\n",
    "        replay_buffer.append(state, action, state_, reward, done)\n",
    "        memory_filling_steps += 1\n",
    "        state = state_\n",
    "\n",
    "################################################################################\n",
    "\n",
    "\n",
    "env.close()\n",
    "\n",
    "print(len(replay_buffer.memory))\n",
    "print(memory_filling_steps)\n",
    "replay_buffer.memory[1]"
   ]
  },
  {
   "cell_type": "markdown",
   "metadata": {},
   "source": [
    "# Design the deep Q-network"
   ]
  },
  {
   "cell_type": "markdown",
   "metadata": {},
   "source": [
    "In the next step, you need to implement a neural net class for the Q-network. The neural net should have the following architecture:\n",
    "\n",
    "    fully connected: #input_dim -> #hidden_dim\n",
    "    fully connected: #hidden_dim -> #hidden_dim\n",
    "    fully connected: #hidden_dim -> #hidden_dim\n",
    "    fully connected: #hidden_dim -> #n_actions"
   ]
  },
  {
   "cell_type": "code",
   "execution_count": 4,
   "metadata": {},
   "outputs": [],
   "source": [
    "# Implement the neural network:\n",
    "class DeepQNetwork(nn.Module):\n",
    "    def __init__(self,  n_actions, input_dims, hidden_dim, bias):\n",
    "        super(DeepQNetwork, self).__init__()\n",
    "\n",
    "        ################################################################################\n",
    "\n",
    "        \n",
    "        self.fc1 = nn.Sequential(nn.Linear(input_dims, hidden_dim, bias), nn.BatchNorm1d(hidden_dim), nn.PReLU())\n",
    "        self.fc2 = nn.Sequential(nn.Linear(hidden_dim, hidden_dim, bias), nn.BatchNorm1d(hidden_dim), nn.PReLU())\n",
    "        self.fc3 = nn.Sequential(nn.Linear(hidden_dim, hidden_dim, bias), nn.BatchNorm1d(hidden_dim), nn.PReLU())\n",
    "        self.fc4 = nn.Linear(hidden_dim, n_actions, bias)\n",
    "        \n",
    "        ################################################################################\n",
    "\n",
    "\n",
    "    def forward(self, state):\n",
    "        ################################################################################\n",
    "\n",
    "        \n",
    "        Q = self.fc1(state)\n",
    "        Q = self.fc2(Q)\n",
    "        Q = self.fc3(Q)\n",
    "        Q = self.fc4(Q)\n",
    "\n",
    "        ################################################################################\n",
    "\n",
    "        return Q"
   ]
  },
  {
   "cell_type": "code",
   "execution_count": 5,
   "metadata": {},
   "outputs": [],
   "source": [
    "# Setting up hyperparameters: \n",
    "N_ACTIONS = env.action_space.n\n",
    "N_STATES = 4\n",
    "N_HIDDEN_NODES = 256\n",
    "USE_BIAS = True\n",
    "EPSILON = 0.05\n",
    "BATCH_SIZE = 64\n",
    "WINDOW = 100\n",
    "REWARD_THRESHOLD = 195\n",
    "NETWORK_UPDATE_FREQUENCY = 4\n",
    "NETWORK_SYNC_FREQUENCY = 2000\n",
    "DEVICE='cpu'\n",
    "GAMMA = 0.99\n",
    "MAX_EPISODES = 2000\n",
    "\n",
    "training_rewards = []\n",
    "training_loss =[]\n",
    "update_loss = []\n",
    "mean_training_rewards = []\n",
    "sync_eps = []\n",
    "step_count = 0"
   ]
  },
  {
   "cell_type": "markdown",
   "metadata": {},
   "source": [
    "Now, initialize a deep Q-network. Additionaly, you need a target Q-network to stabilize learning. Remember the target network is frequently updated with the weights of the Q-net, so copy the weights of the Q-net into the target right at the beginning. Moreover, instantiate an Adam-optimizer for updating the weights of the Q-net. "
   ]
  },
  {
   "cell_type": "code",
   "execution_count": 6,
   "metadata": {},
   "outputs": [],
   "source": [
    "#Instantiate the Q-net, the target net, and the Adam optimizer for the Q-net:\n",
    "\n",
    "################################################################################\n",
    "\n",
    "\n",
    "#Initialize Deep Q-Net\n",
    "DQNet = DeepQNetwork(N_ACTIONS, N_STATES, N_HIDDEN_NODES, USE_BIAS).to(DEVICE)\n",
    "\n",
    "#Initialize Target Deep Q-Net\n",
    "TargetDQNet = DeepQNetwork(N_ACTIONS, N_STATES, N_HIDDEN_NODES, USE_BIAS).to(DEVICE)\n",
    "\n",
    "#Save weights in target DQN\n",
    "TargetDQNet.load_state_dict(DQNet.state_dict())\n",
    "TargetDQNet.eval()\n",
    "\n",
    "optimizer = optim.Adam(DQNet.parameters())\n",
    "\n",
    "################################################################################\n",
    "\n"
   ]
  },
  {
   "cell_type": "markdown",
   "metadata": {},
   "source": [
    "# Epsilon-greedy exploration"
   ]
  },
  {
   "cell_type": "markdown",
   "metadata": {},
   "source": [
    "Next, you need to implement a method for the epsilon-greedy exploration. Epsilon-greedy is a very simple yet effective exploration scheme. If a randomly drawn number between 0 and 1 is less than the epsilon threshold, a random number is chosen, else choose an action according to the greedy policy. "
   ]
  },
  {
   "cell_type": "code",
   "execution_count": 7,
   "metadata": {},
   "outputs": [],
   "source": [
    "# Epsilon-greedy:\n",
    "# First, generate a random number and check if you choose the action randomly or with respect to the greedy policy\n",
    "\n",
    "def get_action(state, epsilon=0.05):\n",
    "    ################################################################################\n",
    "\n",
    "    \n",
    "    # With a small probability of epsilon, choose a random action\n",
    "    if np.random.rand()< epsilon:\n",
    "        return np.random.choice(2)\n",
    "    # Else, with probability of (1-epsilon), choose the greediest action\n",
    "    else:\n",
    "        return greedy_action(state)\n",
    "\n",
    "    ################################################################################\n",
    "\n",
    "\n",
    "# Define a method for computing the action according to the greedy policy\n",
    "# You have to use the Q-net. Therefore, transform the state (numpy state) to a torch tensor and make sure it is \n",
    "# available on your computing device (.to())\n",
    "\n",
    "def greedy_action(state):\n",
    "    ################################################################################\n",
    "\n",
    "\n",
    "    # Convert state to tensor\n",
    "    state = Variable(torch.Tensor(state.reshape(-1, len(state)))).to(DEVICE)\n",
    "    \n",
    "    # Get Q Value of all actions\n",
    "    DQNet.eval()\n",
    "    scores = DQNet(state)\n",
    "    \n",
    "    # Select greediest action\n",
    "    action = int(torch.argmax(scores))\n",
    "    \n",
    "    ################################################################################\n",
    "\n",
    "    return action"
   ]
  },
  {
   "cell_type": "markdown",
   "metadata": {},
   "source": [
    "# Computing the loss ..."
   ]
  },
  {
   "cell_type": "markdown",
   "metadata": {},
   "source": [
    "This is where all magic happens. Compute the mean-squarred error loss of the target Q-values and the Q-values according to the following alogrithm (Hasselt et al. 2015). "
   ]
  },
  {
   "cell_type": "markdown",
   "metadata": {},
   "source": [
    "\\begin{align}\n",
    "&for~each~update~step~do\\\\\n",
    "&\\quad sample ~ e_t=(s_t, a_t, r_t, s_t')\\sim D\\\\\n",
    "&\\quad Compute~target~Q~value:\\\\\n",
    "&\\quad \\quad Q^\\star(s_t, a_t) \\approx r_t + \\gamma Q_\\theta(s_{t+1}, argmax_{a'}Q_{\\theta'}(s_{t+}, a'))\\\\\n",
    "&\\quad Perform~gradient~descent~with~MSE~loss~on~(Q^\\star(s_t,a_t)-Q_\\theta(s_t,a_t))^2\\\\\n",
    "\\end{align}\n"
   ]
  },
  {
   "cell_type": "code",
   "execution_count": 8,
   "metadata": {},
   "outputs": [],
   "source": [
    "# The loss function: \n",
    "# First, you need to transform the numpy arrays for the state batch, action batch, reward batch, next state batch\n",
    "# terminal flag batch into appropriate tensors which are accessable from your computing device.\n",
    "# Compute the Q-values for the current state and action.\n",
    "# Compute the the best action under the Q-net for the next state\n",
    "# Compute the target Q-values for the next state and the best action for the next state\n",
    "# Zero-out all target Q-values for terminal states\n",
    "# Compute the expected target Q-values\n",
    "# Compute the loss for between Q-values and expected target Q-values\n",
    "\n",
    "def calculate_loss(state_batch, action_batch, reward_batch, new_state_batch, done_batch):\n",
    "    ################################################################################\n",
    "\n",
    "    \n",
    "    # Transform input numpy arrays to tensors\n",
    "    states = Variable(torch.Tensor(state_batch.reshape(-1, 4)))\n",
    "    next_states = Variable(torch.Tensor(new_state_batch.reshape(-1, 4)))\n",
    "    actions = Variable(torch.Tensor(action_batch.reshape(-1))).type(torch.long)\n",
    "    rewards = Variable(torch.Tensor(reward_batch.reshape(-1)))\n",
    "    flags = Variable(torch.Tensor(done_batch.reshape(-1))).type(torch.bool)\n",
    "    \n",
    "    # Calculate predicted Q value and save it\n",
    "    DQNet.train(mode=False)\n",
    "    Q1 = DQNet(states)\n",
    "    Q_predict = Q1[:,actions].diagonal().clone()\n",
    "    \n",
    "    # Get a prime using Double Q-Learning\n",
    "    a_prime = torch.argmax(DQNet(next_states),axis=1)\n",
    "    \n",
    "    # Calculate targeted Q value\n",
    "    Q_target = rewards + GAMMA * TargetDQNet(next_states)[:,a_prime].diagonal() * ~flags\n",
    "    \n",
    "    # Calculate loss value\n",
    "    DQNet.train(mode=True)\n",
    "    loss_fn = torch.nn.MSELoss()\n",
    "    loss = loss_fn(Q_predict,Q_target)\n",
    "    \n",
    "    ################################################################################\n",
    "\n",
    "    \n",
    "    return loss"
   ]
  },
  {
   "cell_type": "code",
   "execution_count": 9,
   "metadata": {},
   "outputs": [],
   "source": [
    "def check_average_reward():\n",
    "    val_env = gym.make('CartPole-v0')\n",
    "    policy = deepcopy(q_network)\n",
    "    policy.eval()\n",
    "    trajectory_rewards = np.empty((10, 1))\n",
    "    for i_traj in range(10):\n",
    "        state, ep_reward = val_env.reset(), 0\n",
    "        cum_reward = 0\n",
    "        for t in range(1, 10000):  # Don't infinite loop while learning\n",
    "            with torch.no_grad():\n",
    "                state_t = torch.FloatTensor(state).to(device=DEVICE)\n",
    "                a = policy.forward(state_t)\n",
    "                argmax_a = torch.max(a, dim=0)[1].item()\n",
    "            state, reward, done, _ = val_env.step(argmax_a)\n",
    "            cum_reward += reward\n",
    "            if done:\n",
    "                trajectory_rewards[i_traj] = cum_reward\n",
    "                break\n",
    "    average_reward = np.mean(trajectory_rewards)\n",
    "    print(' avg_reward: ', average_reward)"
   ]
  },
  {
   "cell_type": "markdown",
   "metadata": {},
   "source": [
    "# Putting everything together"
   ]
  },
  {
   "cell_type": "markdown",
   "metadata": {},
   "source": [
    "Last, you need to put everything together in a training loop. Setup the environment, choose the action according to epsilon-greedy. Take a step and add the transition to the buffer. Every 4 steps, we want to perform an update step on the Q-net and every 2000 steps, we want to synchronize the target Q-net with the Q-net. You have already written all code to train the network, just set it up in an appropriate order.\n",
    "\n",
    "Visualize your learning performance using a plot. "
   ]
  },
  {
   "cell_type": "code",
   "execution_count": 10,
   "metadata": {},
   "outputs": [],
   "source": [
    "minibatch = replay_buffer.sample_batch(BATCH_SIZE)\n",
    "state_batch = np.array([x.state for x in minibatch])\n",
    "#print(state_batch)\n",
    "states = Variable(torch.Tensor(state_batch.reshape(-1, 4)))\n",
    "#print(states)"
   ]
  },
  {
   "cell_type": "code",
   "execution_count": 11,
   "metadata": {},
   "outputs": [
    {
     "name": "stdout",
     "output_type": "stream",
     "text": [
      "Episode 750 Mean Rewards 195.36\t\t\n",
      "Environment solved in 750 episodes!\n"
     ]
    }
   ],
   "source": [
    "# The training loop: \n",
    "# choose the action according to epsilon-greedy\n",
    "# perform the action \n",
    "# store the transition in the replay buffer\n",
    "# Every 4 steps perform an update step on the Q-net. Don't forget to zero the gradients of the optimizer.\n",
    "#     - Sample a batch from the buffer\n",
    "#     - compute the loss for the batch\n",
    "#     - perform the backpropagation through the Q-net\n",
    "#     - perform an update step on the Q-net using the optimizer\n",
    "# Every 2000 steps synchronize the target Q-net and the current Q-net\n",
    "\n",
    "ep = 0\n",
    "step_count = 0\n",
    "training = True\n",
    "\n",
    "while training:\n",
    "    state = env.reset()\n",
    "    done = False\n",
    "    rewards = 0\n",
    "    while done == False:\n",
    "        ################################################################################\n",
    "\n",
    "        \n",
    "        # Choose Action\n",
    "        action = get_action(state)\n",
    "        # Perform Action\n",
    "        next_state, reward, done, _ = env.step(action)        \n",
    "        # Count Accumulative rewards\n",
    "        rewards += reward        \n",
    "        # Save in Buffer\n",
    "        replay_buffer.append(state, action, next_state, reward, done)\n",
    "        # Copy next state\n",
    "        state = next_state\n",
    "        \n",
    "        # Each step:\n",
    "        step_count += 1        \n",
    "        \n",
    "        if step_count % NETWORK_UPDATE_FREQUENCY == 0:            \n",
    "            # Get batch\n",
    "            minibatch = replay_buffer.sample_batch(BATCH_SIZE)\n",
    "            state_batch      = np.array([x.state      for x in minibatch])\n",
    "            action_batch     = np.array([x.action     for x in minibatch])\n",
    "            next_state_batch = np.array([x.next_state for x in minibatch])\n",
    "            reward_batch     = np.array([x.reward     for x in minibatch])\n",
    "            done_batch       = np.array([x.flag       for x in minibatch])\n",
    "            # Calculate Loss\n",
    "            loss = calculate_loss(state_batch, action_batch, reward_batch, next_state_batch, done_batch)\n",
    "            # Perform a step\n",
    "            optimizer.zero_grad()\n",
    "            loss.backward()\n",
    "            optimizer.step()\n",
    "\n",
    "            update_loss.append(loss.item())\n",
    "            \n",
    "        # Synchronize weights in target DQN every 2000 steps\n",
    "        #if step_count % NETWORK_SYNC_FREQUENCY == 0:\n",
    "        if step_count % 100 == 0:            \n",
    "            TargetDQNet.load_state_dict(DQNet.state_dict())\n",
    "            TargetDQNet.eval()        \n",
    "\n",
    "        ################################################################################\n",
    "\n",
    "\n",
    "        if done:\n",
    "            ep += 1\n",
    "            training_rewards.append(rewards)\n",
    "            training_loss.append(np.mean(update_loss))\n",
    "            update_loss = []\n",
    "            mean_rewards = np.mean(training_rewards[-WINDOW:])\n",
    "            mean_training_rewards.append(mean_rewards)\n",
    "            print(\"\\rEpisode {:d} Mean Rewards {:.2f}\\t\\t\".format(ep, mean_rewards), end=\"\")\n",
    "            if ep >= MAX_EPISODES:\n",
    "                training = False\n",
    "                print('\\nEpisode limit reached.')\n",
    "                break                \n",
    "            if mean_rewards >= REWARD_THRESHOLD:\n",
    "                training = False\n",
    "                print('\\nEnvironment solved in {} episodes!'.format(ep))\n",
    "                break"
   ]
  },
  {
   "cell_type": "code",
   "execution_count": 12,
   "metadata": {},
   "outputs": [
    {
     "data": {
      "image/png": "[encoded data removed]",
      "text/plain": [
       "<Figure size 432x288 with 1 Axes>"
      ]
     },
     "metadata": {
      "needs_background": "light"
     },
     "output_type": "display_data"
    },
    {
     "data": {
      "image/png": "[encoded data removed]",
      "text/plain": [
       "<Figure size 432x288 with 1 Axes>"
      ]
     },
     "metadata": {
      "needs_background": "light"
     },
     "output_type": "display_data"
    }
   ],
   "source": [
    "plt.plot(training_loss)\n",
    "plt.title('Training loss')\n",
    "plt.xlabel('Episode')\n",
    "plt.ylabel('Loss')\n",
    "plt.show()\n",
    "\n",
    "plt.plot(training_rewards)\n",
    "plt.plot(mean_training_rewards)\n",
    "plt.title('Actual and mean training reward')\n",
    "plt.xlabel('Episode')\n",
    "plt.ylabel('Reward')\n",
    "plt.show()"
   ]
  }
 ],
 "metadata": {
  "kernelspec": {
   "display_name": "Python 3",
   "language": "python",
   "name": "python3"
  },
  "language_info": {
   "codemirror_mode": {
    "name": "ipython",
    "version": 3
   },
   "file_extension": ".py",
   "mimetype": "text/x-python",
   "name": "python",
   "nbconvert_exporter": "python",
   "pygments_lexer": "ipython3",
   "version": "3.7.8"
  }
 },
 "nbformat": 4,
 "nbformat_minor": 4
}
